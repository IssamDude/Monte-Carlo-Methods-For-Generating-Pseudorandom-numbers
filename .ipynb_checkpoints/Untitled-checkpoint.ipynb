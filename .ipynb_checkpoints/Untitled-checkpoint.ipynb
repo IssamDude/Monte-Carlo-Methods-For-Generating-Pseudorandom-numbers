{
 "cells": [
  {
   "cell_type": "markdown",
   "metadata": {},
   "source": [
    "# Generating random variables in Python"
   ]
  },
  {
   "cell_type": "markdown",
   "metadata": {},
   "source": [
    "## Linear congruential generator for uniform variables"
   ]
  },
  {
   "cell_type": "code",
   "execution_count": 267,
   "metadata": {},
   "outputs": [],
   "source": [
    "import numpy as np\n",
    "import random\n",
    "import math\n",
    "import time"
   ]
  },
  {
   "cell_type": "code",
   "execution_count": 268,
   "metadata": {},
   "outputs": [],
   "source": [
    "seed=math.floor(10**11*(random.random()))\n",
    "a=979*17 # multiplier\n",
    "b=797*71 # increment\n",
    "mod=2**27"
   ]
  },
  {
   "cell_type": "code",
   "execution_count": 269,
   "metadata": {},
   "outputs": [],
   "source": [
    "def pseudo_uniform( a, b, mod, size ) :\n",
    "    seed=int(10**7*time.perf_counter())\n",
    "    U=np.zeros(size)\n",
    "    x=(a*seed+b)%mod\n",
    "    U[0]=x/mod\n",
    "    for i in range(1, size) : \n",
    "        x=(a*x+b)%mod\n",
    "        U[i]=x/mod\n",
    "    return U"
   ]
  },
  {
   "cell_type": "code",
   "execution_count": 270,
   "metadata": {},
   "outputs": [
    {
     "data": {
      "image/png": "[encoded data removed]",
      "text/plain": [
       "<Figure size 432x288 with 1 Axes>"
      ]
     },
     "metadata": {},
     "output_type": "display_data"
    }
   ],
   "source": [
    "import matplotlib.pyplot as plt\n",
    "plt.hist(pseudo_uniform( a, b, mod, size = 10000 ), bins=20, edgecolor='black')\n",
    "plt.show()"
   ]
  },
  {
   "cell_type": "code",
   "execution_count": 271,
   "metadata": {},
   "outputs": [],
   "source": [
    "def pseudo_bernouilli(p, size1 ) : \n",
    "    B=pseudo_uniform( a, b, mod, size = size1 )\n",
    "    for i in range(len(B)) : \n",
    "        if B[i]>p : \n",
    "            B[i]=1\n",
    "        else : \n",
    "            B[i]=0\n",
    "    return B"
   ]
  },
  {
   "cell_type": "code",
   "execution_count": 272,
   "metadata": {},
   "outputs": [
    {
     "name": "stdout",
     "output_type": "stream",
     "text": [
      "[0. 1. 1. 0. 1. 0. 1. 0. 1. 1. 0. 1. 1. 0. 0. 0. 1. 0. 0. 0.]\n",
      "[0 1 1 0 1 0 1 0 1 1 0 1 1 0 0 0 1 0 0 0]\n",
      "9\n"
     ]
    }
   ],
   "source": [
    "B=pseudo_bernouilli(0.5, 20)\n",
    "print(B)\n",
    "B=(B>0.2).astype(int)\n",
    "print(B)\n",
    "print(np.sum(B))\n"
   ]
  },
  {
   "cell_type": "code",
   "execution_count": 273,
   "metadata": {},
   "outputs": [
    {
     "data": {
      "text/plain": [
       "(array([11.,  9.]), array([0. , 0.5, 1. ]), <BarContainer object of 2 artists>)"
      ]
     },
     "execution_count": 273,
     "metadata": {},
     "output_type": "execute_result"
    },
    {
     "data": {
      "image/png": "[encoded data removed]",
      "text/plain": [
       "<Figure size 432x288 with 1 Axes>"
      ]
     },
     "metadata": {},
     "output_type": "display_data"
    }
   ],
   "source": [
    "plt.hist(B, bins=2, edgecolor='black')"
   ]
  },
  {
   "cell_type": "code",
   "execution_count": 274,
   "metadata": {},
   "outputs": [
    {
     "data": {
      "text/plain": [
       "(array([5045., 4955.]),\n",
       " array([0. , 0.5, 1. ]),\n",
       " <BarContainer object of 2 artists>)"
      ]
     },
     "execution_count": 274,
     "metadata": {},
     "output_type": "execute_result"
    },
    {
     "data": {
      "image/png": "[encoded data removed]",
      "text/plain": [
       "<Figure size 432x288 with 1 Axes>"
      ]
     },
     "metadata": {},
     "output_type": "display_data"
    }
   ],
   "source": [
    "D=pseudo_bernouilli(0.5, 10000)\n",
    "plt.hist(D, bins=2, edgecolor='black')"
   ]
  },
  {
   "cell_type": "code",
   "execution_count": 326,
   "metadata": {},
   "outputs": [],
   "source": [
    "def pseudo_binomial(n, p, size2 ) : \n",
    "    Bin=[]\n",
    "    B=pseudo_bernouilli(p, n)\n",
    "    B=(B>p).astype(int)\n",
    "    Bin.append(np.sum(B))\n",
    "    for i in range(1, size2):\n",
    "        B=pseudo_bernouilli(p, n)\n",
    "        B=(B>p).astype(int)\n",
    "        Bin.append(np.sum(B))\n",
    "    return Bin\n",
    "    "
   ]
  },
  {
   "cell_type": "code",
   "execution_count": 332,
   "metadata": {},
   "outputs": [
    {
     "data": {
      "text/plain": [
       "[51,\n",
       " 47,\n",
       " 48,\n",
       " 53,\n",
       " 56,\n",
       " 43,\n",
       " 46,\n",
       " 52,\n",
       " 49,\n",
       " 47,\n",
       " 44,\n",
       " 54,\n",
       " 50,\n",
       " 49,\n",
       " 51,\n",
       " 50,\n",
       " 41,\n",
       " 52,\n",
       " 56,\n",
       " 56,\n",
       " 52,\n",
       " 47,\n",
       " 45,\n",
       " 44,\n",
       " 48,\n",
       " 55,\n",
       " 49,\n",
       " 47,\n",
       " 52,\n",
       " 56,\n",
       " 46,\n",
       " 58,\n",
       " 50,\n",
       " 56,\n",
       " 51,\n",
       " 41,\n",
       " 54,\n",
       " 54,\n",
       " 54,\n",
       " 47,\n",
       " 48,\n",
       " 50,\n",
       " 52,\n",
       " 44,\n",
       " 41,\n",
       " 55,\n",
       " 57,\n",
       " 44,\n",
       " 49,\n",
       " 60,\n",
       " 45,\n",
       " 52,\n",
       " 49,\n",
       " 54,\n",
       " 60,\n",
       " 59,\n",
       " 49,\n",
       " 52,\n",
       " 48,\n",
       " 42,\n",
       " 52,\n",
       " 52,\n",
       " 53,\n",
       " 52,\n",
       " 57,\n",
       " 49,\n",
       " 42,\n",
       " 40,\n",
       " 49,\n",
       " 44,\n",
       " 53,\n",
       " 49,\n",
       " 48,\n",
       " 46,\n",
       " 45,\n",
       " 52,\n",
       " 50,\n",
       " 50,\n",
       " 57,\n",
       " 43,\n",
       " 48,\n",
       " 42,\n",
       " 61,\n",
       " 52,\n",
       " 48,\n",
       " 58,\n",
       " 50,\n",
       " 49,\n",
       " 51,\n",
       " 48,\n",
       " 57,\n",
       " 46,\n",
       " 50,\n",
       " 53,\n",
       " 56,\n",
       " 50,\n",
       " 56,\n",
       " 48,\n",
       " 53,\n",
       " 50]"
      ]
     },
     "execution_count": 332,
     "metadata": {},
     "output_type": "execute_result"
    }
   ],
   "source": [
    "O=pseudo_binomial(100, 0.5, 100 )\n",
    "O"
   ]
  },
  {
   "cell_type": "code",
   "execution_count": 333,
   "metadata": {},
   "outputs": [
    {
     "data": {
      "text/plain": [
       "(array([ 7.,  7.,  7., 14., 20., 16., 10.,  9.,  6.,  4.]),\n",
       " array([40. , 42.1, 44.2, 46.3, 48.4, 50.5, 52.6, 54.7, 56.8, 58.9, 61. ]),\n",
       " <BarContainer object of 10 artists>)"
      ]
     },
     "execution_count": 333,
     "metadata": {},
     "output_type": "execute_result"
    },
    {
     "data": {
      "image/png": "[encoded data removed]",
      "text/plain": [
       "<Figure size 432x288 with 1 Axes>"
      ]
     },
     "metadata": {},
     "output_type": "display_data"
    }
   ],
   "source": [
    "\n",
    "plt.hist(O, edgecolor='black', bins=10)\n",
    "#plt.show()"
   ]
  },
  {
   "cell_type": "code",
   "execution_count": null,
   "metadata": {},
   "outputs": [],
   "source": []
  }
 ],
 "metadata": {
  "kernelspec": {
   "display_name": "Python 3",
   "language": "python",
   "name": "python3"
  },
  "language_info": {
   "codemirror_mode": {
    "name": "ipython",
    "version": 3
   },
   "file_extension": ".py",
   "mimetype": "text/x-python",
   "name": "python",
   "nbconvert_exporter": "python",
   "pygments_lexer": "ipython3",
   "version": "3.8.5"
  }
 },
 "nbformat": 4,
 "nbformat_minor": 4
}
