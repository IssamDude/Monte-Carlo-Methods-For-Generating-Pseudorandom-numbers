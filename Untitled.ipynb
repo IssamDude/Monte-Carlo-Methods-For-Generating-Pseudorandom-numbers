{
 "cells": [
  {
   "cell_type": "markdown",
   "metadata": {},
   "source": [
    "# Generating random variables in Python"
   ]
  },
  {
   "cell_type": "markdown",
   "metadata": {},
   "source": [
    "## Linear congruential generator for uniform variables"
   ]
  },
  {
   "cell_type": "code",
   "execution_count": 1,
   "metadata": {},
   "outputs": [],
   "source": [
    "import numpy as np\n",
    "import random\n",
    "import math\n",
    "import time"
   ]
  },
  {
   "cell_type": "code",
   "execution_count": 2,
   "metadata": {},
   "outputs": [],
   "source": [
    "seed=math.floor(10**11*(random.random()))\n",
    "a=979*17 # multiplier\n",
    "b=797*71 # increment\n",
    "mod=2**27"
   ]
  },
  {
   "cell_type": "code",
   "execution_count": 3,
   "metadata": {},
   "outputs": [],
   "source": [
    "def pseudo_uniform( a, b, mod, size ) :\n",
    "    seed=int(10**7*time.perf_counter())\n",
    "    U=np.zeros(size)\n",
    "    x=(a*seed+b)%mod\n",
    "    U[0]=x/mod\n",
    "    for i in range(1, size) : \n",
    "        x=(a*x+b)%mod\n",
    "        U[i]=x/mod\n",
    "    return U"
   ]
  },
  {
   "cell_type": "code",
   "execution_count": 4,
   "metadata": {},
   "outputs": [
    {
     "data": {
      "image/png": "[encoded data removed]",
      "text/plain": [
       "<Figure size 432x288 with 1 Axes>"
      ]
     },
     "metadata": {
      "needs_background": "light"
     },
     "output_type": "display_data"
    }
   ],
   "source": [
    "import matplotlib.pyplot as plt\n",
    "plt.hist(pseudo_uniform( a, b, mod, size = 10000 ), bins=20, edgecolor='black')\n",
    "plt.show()"
   ]
  },
  {
   "cell_type": "code",
   "execution_count": 5,
   "metadata": {},
   "outputs": [],
   "source": [
    "def pseudo_bernouilli(p, size1 ) : \n",
    "    B=pseudo_uniform( a, b, mod, size = size1 )\n",
    "    for i in range(len(B)) : \n",
    "        if B[i]>p : \n",
    "            B[i]=1\n",
    "        else : \n",
    "            B[i]=0\n",
    "    return B"
   ]
  },
  {
   "cell_type": "code",
   "execution_count": 6,
   "metadata": {},
   "outputs": [
    {
     "name": "stdout",
     "output_type": "stream",
     "text": [
      "[1. 1. 1. 1. 0. 0. 1. 0. 1. 0. 0. 0. 1. 1. 1. 1. 0. 0. 0. 1.]\n",
      "[1 1 1 1 0 0 1 0 1 0 0 0 1 1 1 1 0 0 0 1]\n",
      "11\n"
     ]
    }
   ],
   "source": [
    "B=pseudo_bernouilli(0.5, 20)\n",
    "print(B)\n",
    "B=(B>0.2).astype(int)\n",
    "print(B)\n",
    "print(np.sum(B))\n"
   ]
  },
  {
   "cell_type": "code",
   "execution_count": 273,
   "metadata": {},
   "outputs": [
    {
     "data": {
      "text/plain": [
       "(array([11.,  9.]), array([0. , 0.5, 1. ]), <BarContainer object of 2 artists>)"
      ]
     },
     "execution_count": 273,
     "metadata": {},
     "output_type": "execute_result"
    },
    {
     "data": {
      "image/png": "[encoded data removed]",
      "text/plain": [
       "<Figure size 432x288 with 1 Axes>"
      ]
     },
     "metadata": {},
     "output_type": "display_data"
    }
   ],
   "source": [
    "plt.hist(B, bins=2, edgecolor='black')"
   ]
  },
  {
   "cell_type": "code",
   "execution_count": 7,
   "metadata": {},
   "outputs": [
    {
     "data": {
      "text/plain": [
       "(array([4949., 5051.]),\n",
       " array([0. , 0.5, 1. ]),\n",
       " <BarContainer object of 2 artists>)"
      ]
     },
     "execution_count": 7,
     "metadata": {},
     "output_type": "execute_result"
    },
    {
     "data": {
      "image/png": "[encoded data removed]",
      "text/plain": [
       "<Figure size 432x288 with 1 Axes>"
      ]
     },
     "metadata": {
      "needs_background": "light"
     },
     "output_type": "display_data"
    }
   ],
   "source": [
    "D=pseudo_bernouilli(0.5, 10000)\n",
    "plt.hist(D, bins=2, edgecolor='black')"
   ]
  },
  {
   "cell_type": "code",
   "execution_count": 8,
   "metadata": {},
   "outputs": [],
   "source": [
    "def pseudo_binomial(n, p, size2 ) : \n",
    "    Bin=[]\n",
    "    B=pseudo_bernouilli(p, n)\n",
    "    B=(B>p).astype(int)\n",
    "    Bin.append(np.sum(B))\n",
    "    for i in range(1, size2):\n",
    "        B=pseudo_bernouilli(p, n)\n",
    "        B=(B>p).astype(int)\n",
    "        Bin.append(np.sum(B))\n",
    "    return Bin\n",
    "    "
   ]
  },
  {
   "cell_type": "code",
   "execution_count": 23,
   "metadata": {},
   "outputs": [
    {
     "data": {
      "text/plain": [
       "array([48, 51, 60, 49, 48, 51, 58, 47, 46, 50, 52, 54, 51, 52, 49, 45, 52,\n",
       "       54, 41, 51, 44, 43, 52, 48, 45, 58, 49, 57, 55, 46, 46, 45, 57, 54,\n",
       "       38, 57, 46, 50, 53, 54, 60, 55, 55, 44, 52, 56, 48, 66, 51, 51, 51,\n",
       "       48, 51, 49, 50, 56, 53, 45, 50, 44, 55, 47, 49, 53, 57, 53, 47, 53,\n",
       "       56, 49, 54, 44, 50, 48, 51, 48, 51, 55, 57, 55, 44, 46, 47, 47, 45,\n",
       "       42, 48, 49, 44, 52, 57, 54, 54, 60, 48, 56, 54, 50, 55, 57])"
      ]
     },
     "execution_count": 23,
     "metadata": {},
     "output_type": "execute_result"
    }
   ],
   "source": [
    "O=pseudo_binomial(100, 0.5, 100 )\n",
    "#O\n",
    "Op=np.array(O)\n",
    "#Op\n",
    "#np.unique(Op)\n",
    "Op"
   ]
  },
  {
   "cell_type": "code",
   "execution_count": 24,
   "metadata": {},
   "outputs": [
    {
     "data": {
      "text/plain": [
       "(array([ 1.,  3., 16., 21., 16., 19., 18.,  5.,  0.,  1.]),\n",
       " array([38. , 40.8, 43.6, 46.4, 49.2, 52. , 54.8, 57.6, 60.4, 63.2, 66. ]),\n",
       " <BarContainer object of 10 artists>)"
      ]
     },
     "execution_count": 24,
     "metadata": {},
     "output_type": "execute_result"
    },
    {
     "data": {
      "image/png": "[encoded data removed]",
      "text/plain": [
       "<Figure size 432x288 with 1 Axes>"
      ]
     },
     "metadata": {
      "needs_background": "light"
     },
     "output_type": "display_data"
    }
   ],
   "source": [
    "\n",
    "plt.hist(Op, edgecolor='black', bins=10)\n",
    "#plt.show()"
   ]
  },
  {
   "cell_type": "code",
   "execution_count": null,
   "metadata": {},
   "outputs": [],
   "source": []
  }
 ],
 "metadata": {
  "kernelspec": {
   "display_name": "Python 3",
   "language": "python",
   "name": "python3"
  },
  "language_info": {
   "codemirror_mode": {
    "name": "ipython",
    "version": 3
   },
   "file_extension": ".py",
   "mimetype": "text/x-python",
   "name": "python",
   "nbconvert_exporter": "python",
   "pygments_lexer": "ipython3",
   "version": "3.8.5"
  }
 },
 "nbformat": 4,
 "nbformat_minor": 4
}
