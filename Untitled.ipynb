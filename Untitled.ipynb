{
 "cells": [
  {
   "cell_type": "markdown",
   "metadata": {},
   "source": [
    "# Generating random variables in Python"
   ]
  },
  {
   "cell_type": "markdown",
   "metadata": {},
   "source": [
    "## Linear congruential generator for uniform variables"
   ]
  },
  {
   "cell_type": "code",
   "execution_count": 12,
   "metadata": {},
   "outputs": [],
   "source": [
    "import numpy as np\n",
    "import random\n",
    "import math\n",
    "import time"
   ]
  },
  {
   "cell_type": "code",
   "execution_count": 13,
   "metadata": {},
   "outputs": [],
   "source": [
    "seed=math.floor(10**11*(random.random()))\n",
    "a=979*17 # multiplier\n",
    "b=797*71 # increment\n",
    "mod=2**27"
   ]
  },
  {
   "cell_type": "code",
   "execution_count": 14,
   "metadata": {},
   "outputs": [],
   "source": [
    "def pseudo_uniform( a, b, mod, size ) :\n",
    "    seed=int(10**7*time.perf_counter())\n",
    "    U=np.zeros(size)\n",
    "    x=(a*seed+b)%mod\n",
    "    U[0]=x/mod\n",
    "    for i in range(1, size) : \n",
    "        x=(a*x+b)%mod\n",
    "        U[i]=x/mod\n",
    "    return U"
   ]
  },
  {
   "cell_type": "code",
   "execution_count": 15,
   "metadata": {},
   "outputs": [
    {
     "data": {
      "image/png": "[encoded data removed]",
      "text/plain": [
       "<Figure size 432x288 with 1 Axes>"
      ]
     },
     "metadata": {
      "needs_background": "light"
     },
     "output_type": "display_data"
    }
   ],
   "source": [
    "import matplotlib.pyplot as plt\n",
    "plt.hist(pseudo_uniform( a, b, mod, size = 10000 ), bins=20, edgecolor='black')\n",
    "plt.show()"
   ]
  },
  {
   "cell_type": "code",
   "execution_count": 16,
   "metadata": {},
   "outputs": [],
   "source": [
    "def pseudo_bernouilli(p, size1 ) : \n",
    "    B=pseudo_uniform( a, b, mod, size = size1 )\n",
    "    for i in range(len(B)) : \n",
    "        if B[i]>p : \n",
    "            B[i]=1\n",
    "        else : \n",
    "            B[i]=0\n",
    "    return B"
   ]
  },
  {
   "cell_type": "code",
   "execution_count": 17,
   "metadata": {},
   "outputs": [
    {
     "name": "stdout",
     "output_type": "stream",
     "text": [
      "[1. 0. 1. 0. 1. 0. 0. 1. 0. 0. 0. 0. 0. 0. 0. 1. 0. 0. 0. 1.]\n",
      "[1 0 1 0 1 0 0 1 0 0 0 0 0 0 0 1 0 0 0 1]\n",
      "6\n"
     ]
    }
   ],
   "source": [
    "B=pseudo_bernouilli(0.5, 20)\n",
    "print(B)\n",
    "B=(B>0.2).astype(int)\n",
    "print(B)\n",
    "print(np.sum(B))\n"
   ]
  },
  {
   "cell_type": "code",
   "execution_count": 18,
   "metadata": {},
   "outputs": [
    {
     "data": {
      "text/plain": [
       "(array([14.,  6.]), array([0. , 0.5, 1. ]), <BarContainer object of 2 artists>)"
      ]
     },
     "execution_count": 18,
     "metadata": {},
     "output_type": "execute_result"
    },
    {
     "data": {
      "image/png": "[encoded data removed]",
      "text/plain": [
       "<Figure size 432x288 with 1 Axes>"
      ]
     },
     "metadata": {
      "needs_background": "light"
     },
     "output_type": "display_data"
    }
   ],
   "source": [
    "plt.hist(B, bins=2, edgecolor='black')"
   ]
  },
  {
   "cell_type": "code",
   "execution_count": 19,
   "metadata": {},
   "outputs": [
    {
     "data": {
      "text/plain": [
       "(array([4960., 5040.]),\n",
       " array([0. , 0.5, 1. ]),\n",
       " <BarContainer object of 2 artists>)"
      ]
     },
     "execution_count": 19,
     "metadata": {},
     "output_type": "execute_result"
    },
    {
     "data": {
      "image/png": "[encoded data removed]",
      "text/plain": [
       "<Figure size 432x288 with 1 Axes>"
      ]
     },
     "metadata": {
      "needs_background": "light"
     },
     "output_type": "display_data"
    }
   ],
   "source": [
    "D=pseudo_bernouilli(0.5, 10000)\n",
    "plt.hist(D, bins=2, edgecolor='black')"
   ]
  },
  {
   "cell_type": "code",
   "execution_count": 20,
   "metadata": {},
   "outputs": [],
   "source": [
    "def pseudo_binomial(n, p, size2 ) : \n",
    "    Bin=[]\n",
    "    B=pseudo_bernouilli(p, n)\n",
    "    B=(B>p).astype(int)\n",
    "    Bin.append(np.sum(B))\n",
    "    for i in range(1, size2):\n",
    "        B=pseudo_bernouilli(p, n)\n",
    "        B=(B>p).astype(int)\n",
    "        Bin.append(np.sum(B))\n",
    "    return Bin\n",
    "    "
   ]
  },
  {
   "cell_type": "code",
   "execution_count": 21,
   "metadata": {},
   "outputs": [
    {
     "data": {
      "text/plain": [
       "array([52, 44, 55, 55, 55, 53, 59, 55, 51, 52, 46, 41, 57, 45, 54, 57, 46,\n",
       "       44, 53, 60, 47, 49, 54, 39, 36, 53, 52, 52, 51, 57, 50, 47, 55, 52,\n",
       "       56, 48, 50, 48, 55, 53, 46, 54, 48, 48, 50, 54, 47, 56, 42, 54, 46,\n",
       "       51, 51, 56, 42, 39, 50, 43, 44, 46, 47, 52, 49, 48, 54, 47, 56, 42,\n",
       "       52, 54, 48, 42, 54, 50, 48, 57, 52, 51, 50, 62, 49, 58, 49, 48, 46,\n",
       "       57, 49, 52, 51, 52, 43, 50, 51, 55, 52, 55, 45, 50, 51, 56])"
      ]
     },
     "execution_count": 21,
     "metadata": {},
     "output_type": "execute_result"
    }
   ],
   "source": [
    "O=pseudo_binomial(100, 0.5, 100 )\n",
    "#O\n",
    "Op=np.array(O)\n",
    "#Op\n",
    "#np.unique(Op)\n",
    "Op"
   ]
  },
  {
   "cell_type": "code",
   "execution_count": 22,
   "metadata": {},
   "outputs": [
    {
     "data": {
      "text/plain": [
       "(array([ 1.,  3.,  6., 11., 13., 21., 23., 13.,  7.,  2.]),\n",
       " array([36. , 38.6, 41.2, 43.8, 46.4, 49. , 51.6, 54.2, 56.8, 59.4, 62. ]),\n",
       " <BarContainer object of 10 artists>)"
      ]
     },
     "execution_count": 22,
     "metadata": {},
     "output_type": "execute_result"
    },
    {
     "data": {
      "image/png": "[encoded data removed]",
      "text/plain": [
       "<Figure size 432x288 with 1 Axes>"
      ]
     },
     "metadata": {
      "needs_background": "light"
     },
     "output_type": "display_data"
    }
   ],
   "source": [
    "\n",
    "plt.hist(Op, edgecolor='black', bins=10)\n",
    "#plt.show()"
   ]
  },
  {
   "cell_type": "code",
   "execution_count": 114,
   "metadata": {},
   "outputs": [],
   "source": [
    "# Generate a gaussion with the CLT : \n",
    "def pseudo_normal(n):\n",
    "    g=[]\n",
    "    for i in range(n):\n",
    "        x=pseudo_uniform( a, b, mod, 10000 )\n",
    "        s=np.mean(x)\n",
    "        s=math.sqrt(10000)*12*(s-0.5)\n",
    "        g.append(s)\n",
    "    return g"
   ]
  },
  {
   "cell_type": "code",
   "execution_count": 115,
   "metadata": {},
   "outputs": [],
   "source": [
    "g=pseudo_normal(1000)"
   ]
  },
  {
   "cell_type": "code",
   "execution_count": 116,
   "metadata": {},
   "outputs": [
    {
     "data": {
      "text/plain": [
       "(array([ 10.,  34., 106., 203., 251., 203., 126.,  54.,   9.,   4.]),\n",
       " array([-10.39468698,  -8.15544614,  -5.91620529,  -3.67696445,\n",
       "         -1.4377236 ,   0.80151725,   3.04075809,   5.27999894,\n",
       "          7.51923978,   9.75848063,  11.99772147]),\n",
       " <BarContainer object of 10 artists>)"
      ]
     },
     "execution_count": 116,
     "metadata": {},
     "output_type": "execute_result"
    },
    {
     "data": {
      "image/png": "[encoded data removed]",
      "text/plain": [
       "<Figure size 432x288 with 1 Axes>"
      ]
     },
     "metadata": {
      "needs_background": "light"
     },
     "output_type": "display_data"
    }
   ],
   "source": [
    "plt.hist(g, edgecolor='black')"
   ]
  },
  {
   "cell_type": "code",
   "execution_count": null,
   "metadata": {},
   "outputs": [],
   "source": []
  }
 ],
 "metadata": {
  "kernelspec": {
   "display_name": "Python 3",
   "language": "python",
   "name": "python3"
  },
  "language_info": {
   "codemirror_mode": {
    "name": "ipython",
    "version": 3
   },
   "file_extension": ".py",
   "mimetype": "text/x-python",
   "name": "python",
   "nbconvert_exporter": "python",
   "pygments_lexer": "ipython3",
   "version": "3.8.5"
  }
 },
 "nbformat": 4,
 "nbformat_minor": 4
}
